{
  "nbformat": 4,
  "nbformat_minor": 0,
  "metadata": {
    "colab": {
      "name": "Pred_Cost_NPT_Cast.ipynb",
      "provenance": [],
      "authorship_tag": "ABX9TyMYL0kjpTBr7NZHU1bc6JwP",
      "include_colab_link": true
    },
    "kernelspec": {
      "name": "python3",
      "display_name": "Python 3"
    },
    "language_info": {
      "name": "python"
    }
  },
  "cells": [
    {
      "cell_type": "markdown",
      "metadata": {
        "id": "view-in-github",
        "colab_type": "text"
      },
      "source": [
        "<a href=\"https://colab.research.google.com/github/diegojeda/Prediccion-NPT/blob/main/Pred_Cost_NPT_Cast.ipynb\" target=\"_parent\"><img src=\"https://colab.research.google.com/assets/colab-badge.svg\" alt=\"Open In Colab\"/></a>"
      ]
    },
    {
      "cell_type": "code",
      "metadata": {
        "id": "HPsuVnJB6kn-"
      },
      "source": [
        "import pandas as pd\n",
        "import numpy as np\n",
        "from numpy import loadtxt\n",
        "from pylab import *\n",
        "import matplotlib.pyplot as plt\n",
        "%matplotlib inline\n",
        "import seaborn as sns\n",
        "from IPython.core.interactiveshell import InteractiveShell  \n",
        "InteractiveShell.ast_node_interactivity = \"all\"\n",
        "from IPython.display import display, HTML\n",
        "import pandas as pd\n",
        "from scipy import stats\n",
        "import pandas_profiling\n",
        "import numpy as np\n",
        "import seaborn as sns\n",
        "import matplotlib.pyplot as plt\n",
        "import os\n",
        "import missingno as msno\n",
        "from pycaret.regression import *\n",
        "from sklearn.model_selection import train_test_split\n",
        "import math\n",
        "from pandas_profiling import ProfileReport\n",
        "import dtale\n",
        "from itertools import product\n",
        "import plotly.graph_objects as go\n",
        "plt.style.use('ggplot');"
      ],
      "execution_count": null,
      "outputs": []
    }
  ]
}